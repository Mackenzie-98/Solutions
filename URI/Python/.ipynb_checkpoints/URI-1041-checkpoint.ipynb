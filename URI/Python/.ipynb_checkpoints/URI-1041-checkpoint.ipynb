{
 "cells": [
  {
   "cell_type": "code",
   "execution_count": 29,
   "id": "4b128df9",
   "metadata": {},
   "outputs": [
    {
     "name": "stdout",
     "output_type": "stream",
     "text": [
      "2\n"
     ]
    },
    {
     "ename": "TypeError",
     "evalue": "'dict' object is not callable",
     "output_type": "error",
     "traceback": [
      "\u001b[1;31m---------------------------------------------------------------------------\u001b[0m",
      "\u001b[1;31mTypeError\u001b[0m                                 Traceback (most recent call last)",
      "\u001b[1;32m<ipython-input-29-7a8652e82015>\u001b[0m in \u001b[0;36m<module>\u001b[1;34m\u001b[0m\n\u001b[1;32m----> 1\u001b[1;33m \u001b[0mx\u001b[0m\u001b[1;33m,\u001b[0m\u001b[0my\u001b[0m \u001b[1;33m=\u001b[0m \u001b[0mlist\u001b[0m\u001b[1;33m(\u001b[0m\u001b[0mmap\u001b[0m\u001b[1;33m(\u001b[0m\u001b[0mint\u001b[0m\u001b[1;33m,\u001b[0m\u001b[0minput\u001b[0m\u001b[1;33m(\u001b[0m\u001b[1;33m)\u001b[0m\u001b[1;33m.\u001b[0m\u001b[0msplit\u001b[0m\u001b[1;33m(\u001b[0m\u001b[1;33m)\u001b[0m\u001b[1;33m)\u001b[0m\u001b[1;33m)\u001b[0m\u001b[1;33m\u001b[0m\u001b[1;33m\u001b[0m\u001b[0m\n\u001b[0m\u001b[0;32m      2\u001b[0m mapa = {\n\u001b[0;32m      3\u001b[0m     \u001b[1;34m\"0,0\"\u001b[0m \u001b[1;33m:\u001b[0m \u001b[1;34m\"Origem\"\u001b[0m\u001b[1;33m,\u001b[0m\u001b[1;33m\u001b[0m\u001b[1;33m\u001b[0m\u001b[0m\n\u001b[0;32m      4\u001b[0m     \u001b[1;34m\"1,1\"\u001b[0m \u001b[1;33m:\u001b[0m \u001b[1;34m\"Q1\"\u001b[0m\u001b[1;33m,\u001b[0m\u001b[1;33m\u001b[0m\u001b[1;33m\u001b[0m\u001b[0m\n\u001b[0;32m      5\u001b[0m     \u001b[1;34m\"-1,1\"\u001b[0m \u001b[1;33m:\u001b[0m \u001b[1;34m\"Q2\"\u001b[0m\u001b[1;33m,\u001b[0m\u001b[1;33m\u001b[0m\u001b[1;33m\u001b[0m\u001b[0m\n",
      "\u001b[1;31mTypeError\u001b[0m: 'dict' object is not callable"
     ]
    }
   ],
   "source": [
    "x = int(input())\n",
    "y = int(input())\n",
    "mapa = {\n",
    "    \"0,0\" : \"Origem\",\n",
    "    \"1,1\" : \"Q1\",\n",
    "    \"-1,1\" : \"Q2\",\n",
    "    \"-1,-1\" : \"Q3\",\n",
    "    \"1,-1\" : \"Q4\",\n",
    "    \"0,1\" : \"Eixo Y\",\n",
    "    \"0,-1\" : \"Eixo Y\",\n",
    "    \"1,0\" : \"Eixo X\",\n",
    "    \"-1,0\" : \"Eixo X\"\n",
    "}\n",
    "\n",
    "if(x > 0): x = 1\n",
    "elif (x < 0): x = -1\n",
    "else: x = 0\n",
    "    \n",
    "if(y > 0): y = 1\n",
    "elif (y < 0): y = -1\n",
    "else: y = 0\n",
    "    \n",
    "print(mapa[\"{},{}\".format(x,y)])"
   ]
  },
  {
   "cell_type": "markdown",
   "id": "dc6bee25",
   "metadata": {},
   "source": [
    " "
   ]
  },
  {
   "cell_type": "code",
   "execution_count": null,
   "id": "95fe790a",
   "metadata": {},
   "outputs": [],
   "source": []
  }
 ],
 "metadata": {
  "kernelspec": {
   "display_name": "Python 3",
   "language": "python",
   "name": "python3"
  },
  "language_info": {
   "codemirror_mode": {
    "name": "ipython",
    "version": 3
   },
   "file_extension": ".py",
   "mimetype": "text/x-python",
   "name": "python",
   "nbconvert_exporter": "python",
   "pygments_lexer": "ipython3",
   "version": "3.8.8"
  }
 },
 "nbformat": 4,
 "nbformat_minor": 5
}
