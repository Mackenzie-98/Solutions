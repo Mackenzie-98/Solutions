{
 "cells": [
  {
   "cell_type": "code",
   "execution_count": 37,
   "id": "b6ba1f9b",
   "metadata": {},
   "outputs": [
    {
     "name": "stdout",
     "output_type": "stream",
     "text": [
      "1,2\n",
      "1,3\n",
      "Q1\n"
     ]
    }
   ],
   "source": [
    "x = float(input().replace(',','.'))\n",
    "y = float(input().replace(',','.'))\n",
    "mapa = {\n",
    "    \"0,0\" : \"Origem\",\n",
    "    \"1,1\" : \"Q1\",\n",
    "    \"-1,1\" : \"Q2\",\n",
    "    \"-1,-1\" : \"Q3\",\n",
    "    \"1,-1\" : \"Q4\",\n",
    "    \"0,1\" : \"Eixo Y\",\n",
    "    \"0,-1\" : \"Eixo Y\",\n",
    "    \"1,0\" : \"Eixo X\",\n",
    "    \"-1,0\" : \"Eixo X\"\n",
    "}\n",
    "\n",
    "if(x > 0): x = 1\n",
    "elif (x < 0): x = -1\n",
    "else: x = 0\n",
    "    \n",
    "if(y > 0): y = 1\n",
    "elif (y < 0): y = -1\n",
    "else: y = 0\n",
    "    \n",
    "print(mapa[\"{},{}\".format(x,y)])"
   ]
  },
  {
   "cell_type": "markdown",
   "id": "6528f4b3",
   "metadata": {},
   "source": [
    " 1.2\n",
    " 1.3\n",
    " 2\n",
    " 1\n",
    " 12\n",
    " 2\n",
    " 2\n",
    " 1\n",
    " 1\n",
    " 1\n",
    " 1\n",
    " 1\n",
    " 1\n",
    " 1\n",
    " 1\n",
    " 1\n",
    " 1\n",
    " 1\n",
    " 1\n",
    " 1\n",
    " "
   ]
  },
  {
   "cell_type": "code",
   "execution_count": null,
   "id": "d08f8855",
   "metadata": {},
   "outputs": [],
   "source": []
  }
 ],
 "metadata": {
  "kernelspec": {
   "display_name": "Python 3",
   "language": "python",
   "name": "python3"
  },
  "language_info": {
   "codemirror_mode": {
    "name": "ipython",
    "version": 3
   },
   "file_extension": ".py",
   "mimetype": "text/x-python",
   "name": "python",
   "nbconvert_exporter": "python",
   "pygments_lexer": "ipython3",
   "version": "3.8.8"
  }
 },
 "nbformat": 4,
 "nbformat_minor": 5
}
