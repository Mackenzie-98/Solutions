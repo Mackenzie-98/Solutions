{
 "cells": [
  {
   "cell_type": "code",
   "execution_count": 24,
   "id": "74f10838",
   "metadata": {},
   "outputs": [
    {
     "name": "stdout",
     "output_type": "stream",
     "text": [
      "5\n",
      "ABBA\n"
     ]
    }
   ],
   "source": [
    "n = int(input())\n",
    "lista = []\n",
    "while(n>1):\n",
    "    if n%2 == 1:\n",
    "        lista.append(1)\n",
    "    else:\n",
    "        lista.append(0)\n",
    "    n = n//2\n",
    "lista.append(1)\n",
    "sz = len(lista)\n",
    "ans = []\n",
    "cur_value = 0\n",
    "for i in range(sz):\n",
    "    if lista[sz-i-1] == 1:\n",
    "        ans.append(\"A\")\n",
    "    if i is not sz-1:\n",
    "        ans.append(\"B\")\n",
    "print(\"\".join(ans))"
   ]
  },
  {
   "cell_type": "code",
   "execution_count": null,
   "id": "cca84476",
   "metadata": {},
   "outputs": [],
   "source": []
  }
 ],
 "metadata": {
  "kernelspec": {
   "display_name": "Python 3",
   "language": "python",
   "name": "python3"
  },
  "language_info": {
   "codemirror_mode": {
    "name": "ipython",
    "version": 3
   },
   "file_extension": ".py",
   "mimetype": "text/x-python",
   "name": "python",
   "nbconvert_exporter": "python",
   "pygments_lexer": "ipython3",
   "version": "3.8.8"
  }
 },
 "nbformat": 4,
 "nbformat_minor": 5
}
