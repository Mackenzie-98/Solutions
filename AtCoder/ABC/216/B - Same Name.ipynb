{
 "cells": [
  {
   "cell_type": "code",
   "execution_count": 9,
   "id": "cd13e268",
   "metadata": {},
   "outputs": [
    {
     "name": "stdout",
     "output_type": "stream",
     "text": [
      "3\n",
      "saito ichiro\n",
      "saito jiro\n",
      "saito saburo\n",
      "No\n"
     ]
    }
   ],
   "source": [
    "n = int(input())\n",
    "people = []\n",
    "\n",
    "for i in range(n):\n",
    "    people.append(tuple(input().split()))\n",
    "\n",
    "ans = 0\n",
    "for i in range(n):\n",
    "    for j in range(i+1, n):\n",
    "        if(people[i][0] == people[j][0] and people[i][1] == people[j][1]):\n",
    "            ans = 1\n",
    "print(\"Yes\" if ans == 1 else \"No\")\n",
    "            \n",
    "\n"
   ]
  }
 ],
 "metadata": {
  "kernelspec": {
   "display_name": "Python 3",
   "language": "python",
   "name": "python3"
  },
  "language_info": {
   "codemirror_mode": {
    "name": "ipython",
    "version": 3
   },
   "file_extension": ".py",
   "mimetype": "text/x-python",
   "name": "python",
   "nbconvert_exporter": "python",
   "pygments_lexer": "ipython3",
   "version": "3.8.8"
  }
 },
 "nbformat": 4,
 "nbformat_minor": 5
}
