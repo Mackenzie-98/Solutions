{
 "cells": [
  {
   "cell_type": "code",
   "execution_count": 12,
   "id": "989bf091",
   "metadata": {},
   "outputs": [
    {
     "name": "stdout",
     "output_type": "stream",
     "text": [
      "ABC\n",
      "ARC\n",
      "AGC\n",
      "AHC\n"
     ]
    }
   ],
   "source": [
    "s1 = input()\n",
    "s2 = input()\n",
    "s3 = input()\n",
    "mapa = {\n",
    "    'ABC': 0,\n",
    "    'ARC': 0,\n",
    "    'AGC': 0,\n",
    "    'AHC': 0\n",
    "}\n",
    "mapa[s1]=1\n",
    "mapa[s2]=1\n",
    "mapa[s3]=1\n",
    "\n",
    "for x in mapa:\n",
    "    if(mapa[x]==0):\n",
    "        print(x)\n",
    "        break"
   ]
  },
  {
   "cell_type": "code",
   "execution_count": null,
   "id": "7466db84",
   "metadata": {},
   "outputs": [],
   "source": []
  }
 ],
 "metadata": {
  "kernelspec": {
   "display_name": "Python 3",
   "language": "python",
   "name": "python3"
  },
  "language_info": {
   "codemirror_mode": {
    "name": "ipython",
    "version": 3
   },
   "file_extension": ".py",
   "mimetype": "text/x-python",
   "name": "python",
   "nbconvert_exporter": "python",
   "pygments_lexer": "ipython3",
   "version": "3.8.8"
  }
 },
 "nbformat": 4,
 "nbformat_minor": 5
}
